{
  "nbformat": 4,
  "nbformat_minor": 0,
  "metadata": {
    "colab": {
      "provenance": [],
      "authorship_tag": "ABX9TyN+s7ibSuBJKTxoBniwUZCu",
      "include_colab_link": true
    },
    "kernelspec": {
      "name": "python3",
      "display_name": "Python 3"
    },
    "language_info": {
      "name": "python"
    }
  },
  "cells": [
    {
      "cell_type": "markdown",
      "metadata": {
        "id": "view-in-github",
        "colab_type": "text"
      },
      "source": [
        "<a href=\"https://colab.research.google.com/github/mmontano457/Amigo_Secreto/blob/main/Untitled9.ipynb\" target=\"_parent\"><img src=\"https://colab.research.google.com/assets/colab-badge.svg\" alt=\"Open In Colab\"/></a>"
      ]
    },
    {
      "cell_type": "code",
      "execution_count": 73,
      "metadata": {
        "colab": {
          "base_uri": "https://localhost:8080/"
        },
        "id": "p5C6pegf6UUp",
        "outputId": "05331ff8-bd90-4b49-c1ff-ece26b1ceaa1"
      },
      "outputs": [
        {
          "output_type": "stream",
          "name": "stdout",
          "text": [
            "Setor A 39.9\n",
            "Setor B 42.3\n",
            "Setor C 35.8\n",
            "Setor D 36.5\n",
            "Media General 38.625\n",
            "La cantidad de personas arriba de la media son: 18\n"
          ]
        }
      ],
      "source": [
        "edades = {'Setor A': [22, 26, 30, 30, 35, 38, 40, 56, 57, 65],\n",
        " 'Setor B': [22, 24, 26, 33, 41, 49, 50, 54, 60, 64],\n",
        " 'Setor C': [23, 26, 26, 29, 34, 35, 36, 41, 52, 56],\n",
        " 'Setor D': [19, 20, 25, 27, 34, 39, 42, 44, 50, 65]}\n",
        "total = 0\n",
        "personas=0\n",
        "for i in edades:\n",
        "  print(i, sum(edades[i])/len(edades[i]))\n",
        "  total += sum(edades[i])/len(edades[i])\n",
        "  media_general = total/4\n",
        "for j in edades.values():\n",
        "  for persona in j:\n",
        "    if persona > media_general:\n",
        "      personas +=1\n",
        "\n",
        "\n",
        "\n",
        "\n",
        "print('Media General', media_general)\n",
        "print(f\"La cantidad de personas arriba de la media son:\", personas)\n",
        "\n",
        "\n",
        "\n",
        "\n",
        "\n",
        ""
      ]
    }
  ]
}